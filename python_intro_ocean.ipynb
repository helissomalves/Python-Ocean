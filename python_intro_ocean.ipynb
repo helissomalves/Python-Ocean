{
  "nbformat": 4,
  "nbformat_minor": 0,
  "metadata": {
    "colab": {
      "name": "python_intro.ocean",
      "provenance": [],
      "collapsed_sections": []
    },
    "kernelspec": {
      "name": "python3",
      "display_name": "Python 3"
    }
  },
  "cells": [
    {
      "cell_type": "markdown",
      "metadata": {
        "id": "_cI3ghjFzJoh"
      },
      "source": [
        "**A linguagem (\"Hello Word\")**\n"
      ]
    },
    {
      "cell_type": "code",
      "metadata": {
        "id": "VgsmbdJNZb7q",
        "outputId": "15b94ebd-7bea-4e3c-d2b7-b554199f0cec",
        "colab": {
          "base_uri": "https://localhost:8080/",
          "height": 34
        }
      },
      "source": [
        "print (\"Hello Word\")\n"
      ],
      "execution_count": null,
      "outputs": [
        {
          "output_type": "stream",
          "text": [
            "Hello Word\n"
          ],
          "name": "stdout"
        }
      ]
    },
    {
      "cell_type": "markdown",
      "metadata": {
        "id": "zXGNV7KPy019"
      },
      "source": [
        "**Tipos de Dados básicos**"
      ]
    },
    {
      "cell_type": "code",
      "metadata": {
        "id": "gwGof-mbxh1u",
        "outputId": "94da0258-0569-411b-8904-f5a327a1c609",
        "colab": {
          "base_uri": "https://localhost:8080/",
          "height": 102
        }
      },
      "source": [
        "print (type(2)) # O tipo do número 2 é int (número inteiro)\n",
        "print (type(2.5)) # O tipo do número 2.5 é float (número decimal)\n",
        "print (type(1+1j)) # o tipo do número 1 + 1j (j é o número imaginário) é complexo \n",
        "print (type('O termo \"termo\" esta entre aspas\\n')) #Sequencia de caracteres para armazenar texto\n",
        "print (type(True)) # tipo boolenao para Verdadeiro (True) e Falso (False)"
      ],
      "execution_count": null,
      "outputs": [
        {
          "output_type": "stream",
          "text": [
            "<class 'int'>\n",
            "<class 'float'>\n",
            "<class 'complex'>\n",
            "<class 'str'>\n",
            "<class 'bool'>\n"
          ],
          "name": "stdout"
        }
      ]
    },
    {
      "cell_type": "markdown",
      "metadata": {
        "id": "YU67sAsL2kKb"
      },
      "source": [
        "**Variáveis**\n",
        "\n",
        "Uma variável não pode ter o nome começado por números, evitem palavras-chaves da linguagem e caracteres especiais \n"
      ]
    },
    {
      "cell_type": "code",
      "metadata": {
        "id": "ZrzY71qNyJ6K"
      },
      "source": [
        "altura = 1.98 # nome_da_variavel = valor\n",
        "texto = \"Hello Word\"\n",
        "chovendo = False"
      ],
      "execution_count": null,
      "outputs": []
    },
    {
      "cell_type": "code",
      "metadata": {
        "id": "T6gHK_U34FlJ",
        "outputId": "ee3b0e8b-e2cd-449a-dd63-7f6d99a1e980",
        "colab": {
          "base_uri": "https://localhost:8080/",
          "height": 34
        }
      },
      "source": [
        "print(altura, texto, chovendo)"
      ],
      "execution_count": null,
      "outputs": [
        {
          "output_type": "stream",
          "text": [
            "1.98 Hello Word False\n"
          ],
          "name": "stdout"
        }
      ]
    },
    {
      "cell_type": "markdown",
      "metadata": {
        "id": "UUOjhlGk5onX"
      },
      "source": [
        "Operações"
      ]
    },
    {
      "cell_type": "code",
      "metadata": {
        "id": "1G270y845oL_",
        "outputId": "8bbd3fa5-2a15-4269-f24d-b1c3659c8a6e",
        "colab": {
          "base_uri": "https://localhost:8080/",
          "height": 136
        }
      },
      "source": [
        "print(2.5+5j + 1) # o '+' é a soma usual\n",
        "print(10 - 1) # o '-' é a subtração usual \n",
        "print(2 * -2.5) # p '*' é a multiplicação usual\n",
        "print(10/3) # o '/' é a divisão usual\n",
        "\n",
        "print(4 ** 0.5) # o ** é a potenciação \n",
        "print(10 // 3) # o quociente da divisão inteira\n",
        "print(10 % 3) # o '%' é o resto da divisão inteira"
      ],
      "execution_count": null,
      "outputs": [
        {
          "output_type": "stream",
          "text": [
            "(3.5+5j)\n",
            "9\n",
            "-5.0\n",
            "3.3333333333333335\n",
            "2.0\n",
            "3\n",
            "1\n"
          ],
          "name": "stdout"
        }
      ]
    },
    {
      "cell_type": "markdown",
      "metadata": {
        "id": "6yAxRYvM7vmA"
      },
      "source": [
        "**Com texto**"
      ]
    },
    {
      "cell_type": "code",
      "metadata": {
        "id": "5fxXjvq07zUH",
        "outputId": "e73df5d9-a61e-4a88-c03c-1f37a350d485",
        "colab": {
          "base_uri": "https://localhost:8080/",
          "height": 51
        }
      },
      "source": [
        "anos = input(\"Digite sua idade:\")\n",
        "frase = \"Ola eu sou Helissom e tenho \" + anos + \" anos \"  # o '+' é a concatenção de strings\n",
        "print(frase)"
      ],
      "execution_count": null,
      "outputs": [
        {
          "output_type": "stream",
          "text": [
            "Digite sua idade:secret\n",
            "Ola eu sou Helissom e tenho secret anos \n"
          ],
          "name": "stdout"
        }
      ]
    },
    {
      "cell_type": "markdown",
      "metadata": {
        "id": "eoTXkEfLeSZ5"
      },
      "source": [
        ""
      ]
    },
    {
      "cell_type": "code",
      "metadata": {
        "id": "3CoKRjbkeTH2",
        "outputId": "021c2838-ddd7-46be-b10c-704cf2053a46",
        "colab": {
          "base_uri": "https://localhost:8080/",
          "height": 51
        }
      },
      "source": [
        "## Escreva uma sequencia de operações em python que converta um valor em real para dólar\n",
        "valor_em_real = float(input(\"Digite o valor em reais: \"))\n",
        "valor_em_dolar = valor_em_real / 5.62\n",
        "saida = f'O valor é $ {valor_em_dolar} dolar'\n",
        "print(saida)\n",
        "## Escreva uma sequencia de operações em python que converta um valor em dolar para dólar\n",
        "\n"
      ],
      "execution_count": null,
      "outputs": [
        {
          "output_type": "stream",
          "text": [
            "Digite o valor em reais: 10\n",
            "O valor é $ 1.7793594306049823 dolar\n"
          ],
          "name": "stdout"
        }
      ]
    }
  ]
}