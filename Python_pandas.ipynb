{
  "nbformat": 4,
  "nbformat_minor": 0,
  "metadata": {
    "colab": {
      "name": "Python-pandas.ipynb",
      "provenance": [],
      "collapsed_sections": []
    },
    "kernelspec": {
      "name": "python3",
      "display_name": "Python 3"
    }
  },
  "cells": [
    {
      "cell_type": "markdown",
      "metadata": {
        "id": "VTOPCaobxOQ0"
      },
      "source": [
        "**Pandas**\n",
        "\n",
        "É a biblioteca mais popular para lidar com dados em Ciências de Dados\n",
        "Possui duas coleções: a)Series e b)DataFrame"
      ]
    },
    {
      "cell_type": "code",
      "metadata": {
        "id": "SaQ5gqTN1IIe"
      },
      "source": [
        "import pandas as pd"
      ],
      "execution_count": null,
      "outputs": []
    },
    {
      "cell_type": "markdown",
      "metadata": {
        "id": "dQ9bSS-S1Ymf"
      },
      "source": [
        "**Series**\n",
        "\n",
        "É uma lista."
      ]
    },
    {
      "cell_type": "code",
      "metadata": {
        "id": "9L4-JQBp2_tb",
        "outputId": "ee086f1d-fa2b-4abb-fa38-83c7a2fa8f05",
        "colab": {
          "base_uri": "https://localhost:8080/",
          "height": 119
        }
      },
      "source": [
        "s= pd.Series ([10, 20, 30, 40, 50])\n",
        "print (s)\n"
      ],
      "execution_count": null,
      "outputs": [
        {
          "output_type": "stream",
          "text": [
            "0    10\n",
            "1    20\n",
            "2    30\n",
            "3    40\n",
            "4    50\n",
            "dtype: int64\n"
          ],
          "name": "stdout"
        }
      ]
    },
    {
      "cell_type": "markdown",
      "metadata": {
        "id": "m05NwKyD3_OU"
      },
      "source": [
        "**DataFrame**"
      ]
    },
    {
      "cell_type": "code",
      "metadata": {
        "id": "QXGpcl224FtS"
      },
      "source": [
        ""
      ],
      "execution_count": null,
      "outputs": []
    },
    {
      "cell_type": "code",
      "metadata": {
        "id": "QyJV9TJtvLUn",
        "outputId": "62cc0ab5-f7af-4366-da13-2629c7a122aa",
        "colab": {
          "base_uri": "https://localhost:8080/",
          "height": 34
        }
      },
      "source": [
        "x= 10\n",
        "y =20\n",
        "print (x+y)\n"
      ],
      "execution_count": null,
      "outputs": [
        {
          "output_type": "stream",
          "text": [
            "30\n"
          ],
          "name": "stdout"
        }
      ]
    },
    {
      "cell_type": "code",
      "metadata": {
        "id": "K_1DQhv2xkYx",
        "outputId": "4bd9ea56-8d4d-468f-c976-4e8139d28b7a",
        "colab": {
          "base_uri": "https://localhost:8080/",
          "height": 34
        }
      },
      "source": [
        "z= 2 * x\n",
        "print(z)\n"
      ],
      "execution_count": null,
      "outputs": [
        {
          "output_type": "stream",
          "text": [
            "20\n"
          ],
          "name": "stdout"
        }
      ]
    },
    {
      "cell_type": "code",
      "metadata": {
        "id": "iObqG6zScNgX"
      },
      "source": [
        ""
      ],
      "execution_count": null,
      "outputs": []
    }
  ]
}